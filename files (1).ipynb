{
 "cells": [
  {
   "cell_type": "code",
   "execution_count": 4,
   "id": "7bfe0774",
   "metadata": {},
   "outputs": [
    {
     "name": "stdout",
     "output_type": "stream",
     "text": [
      "---read first four characters---\n",
      "hello\n",
      "--read first line---\n",
      "[' world\\n']\n",
      "--read the entire file---\n",
      "this is batman\n",
      "guardian of gautham\n",
      "belive me superman is waste\n"
     ]
    }
   ],
   "source": [
    "f1=open('qoutes.txt','r')\n",
    "print(\"---read first four characters---\")\n",
    "print(f1.read(5))\n",
    "print(\"--read first line---\")\n",
    "print(f1.readlines(1))\n",
    "print(\"--read the entire file---\")\n",
    "a = f1.read()\n",
    "print(a)"
   ]
  },
  {
   "cell_type": "code",
   "execution_count": 5,
   "id": "8c951749",
   "metadata": {},
   "outputs": [
    {
     "name": "stdout",
     "output_type": "stream",
     "text": [
      "No: of lines in file are:4\n"
     ]
    }
   ],
   "source": [
    "f1=open('qoutes.txt','r')\n",
    "c=0\n",
    "for _ in f1:\n",
    "    c+=1\n",
    "print(f\"No: of lines in file are:{c}\")"
   ]
  },
  {
   "cell_type": "code",
   "execution_count": 9,
   "id": "f02eb7eb",
   "metadata": {},
   "outputs": [
    {
     "name": "stdout",
     "output_type": "stream",
     "text": [
      "enter the file path:C:\\Users\\DELL\\Downloads\\qoutes.txt\n",
      "No: of lines in file are:4\n"
     ]
    }
   ],
   "source": [
    "def linecount(fname):\n",
    "    f1=open(fname)\n",
    "    c=0\n",
    "    for l in f1:\n",
    "        c+=1\n",
    "    print(f\"No: of lines in file are:{c}\")\n",
    "linecount(input(\"enter the file path:\"))"
   ]
  },
  {
   "cell_type": "code",
   "execution_count": 11,
   "id": "ef4ff934",
   "metadata": {},
   "outputs": [
    {
     "name": "stdout",
     "output_type": "stream",
     "text": [
      "number of characters in fil:74\n"
     ]
    }
   ],
   "source": [
    "f1=open('qoutes.txt')\n",
    "ch=f1.read()\n",
    "print(f\"number of characters in fil:{len(ch)}\")"
   ]
  },
  {
   "cell_type": "code",
   "execution_count": 12,
   "id": "d05648dd",
   "metadata": {},
   "outputs": [
    {
     "name": "stdout",
     "output_type": "stream",
     "text": [
      "enter the file name with path:C:\\Users\\DELL\\Downloads\\qoutes.txt\n",
      "hello world\n",
      "this is batman\n",
      "guardian of gautham\n",
      "belive me superman is waste\n"
     ]
    }
   ],
   "source": [
    "def fileread(fname):\n",
    "    txt=open(fname)\n",
    "    print(txt.read())\n",
    "fileread(input(\"enter the file name with path:\"))"
   ]
  },
  {
   "cell_type": "code",
   "execution_count": null,
   "id": "3a6ec114",
   "metadata": {},
   "outputs": [],
   "source": []
  }
 ],
 "metadata": {
  "kernelspec": {
   "display_name": "Python 3 (ipykernel)",
   "language": "python",
   "name": "python3"
  },
  "language_info": {
   "codemirror_mode": {
    "name": "ipython",
    "version": 3
   },
   "file_extension": ".py",
   "mimetype": "text/x-python",
   "name": "python",
   "nbconvert_exporter": "python",
   "pygments_lexer": "ipython3",
   "version": "3.9.13"
  }
 },
 "nbformat": 4,
 "nbformat_minor": 5
}
